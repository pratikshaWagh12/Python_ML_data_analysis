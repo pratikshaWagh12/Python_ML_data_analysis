{
 "cells": [
  {
   "cell_type": "markdown",
   "id": "f323aafd",
   "metadata": {},
   "source": [
    " # Crop yield prediction using machine learning model "
   ]
  },
  {
   "cell_type": "markdown",
   "id": "5ca8c174",
   "metadata": {},
   "source": [
    "Crop yield prediction is an important agricultural problem. The Agricultural yield primarily depends on weather conditions (rain, temperature, etc), pesticides and accurate information about history of crop yield is an important thing for making decisions related to agricultural risk management and future predictions. The basic ingredients that sustain humans are similar. We eat a lot of corn, wheat, rice and other simple crops. In this project the prediction of top 10 most consumed yields all over the world is established by applying machine learning techniques. It consist of 10 most consumed crops. It is a regression problem\n",
    "\n",
    "These corps include :\n",
    "\n",
    "Cassava, Maize, Plantains and others, Potatoes, Rice, paddy, Sorghum, Soybeans, Sweet potatoes, Wheat, Yams."
   ]
  },
  {
   "cell_type": "code",
   "execution_count": 3,
   "id": "5a7d2254",
   "metadata": {},
   "outputs": [],
   "source": [
    "import findspark              # importing apache spark\n",
    "findspark.init()"
   ]
  },
  {
   "cell_type": "code",
   "execution_count": 4,
   "id": "49380fdf",
   "metadata": {},
   "outputs": [],
   "source": [
    "import pyspark\n",
    "from pyspark.sql import SparkSession"
   ]
  },
  {
   "cell_type": "code",
   "execution_count": 5,
   "id": "b602a00a",
   "metadata": {},
   "outputs": [],
   "source": [
    "spark = SparkSession.builder.getOrCreate()             # building spark session"
   ]
  },
  {
   "cell_type": "markdown",
   "id": "47ee18a7",
   "metadata": {},
   "source": [
    "Crops Yield Data:\n",
    "\n",
    "After importing required libraries, crops yield of ten most consumed crops around the world was downloaded from FAO webiste.The collected data include country, item, year starting from 1961 to 2016 and yield value."
   ]
  },
  {
   "cell_type": "code",
   "execution_count": 8,
   "id": "ed6aafc3",
   "metadata": {},
   "outputs": [
    {
     "name": "stdout",
     "output_type": "stream",
     "text": [
      "+---+-------+-----------+----+-----------+-----------------------------+-----------------+--------+\n",
      "|_c0|   Area|       Item|Year|hg/ha_yield|average_rain_fall_mm_per_year|pesticides_tonnes|avg_temp|\n",
      "+---+-------+-----------+----+-----------+-----------------------------+-----------------+--------+\n",
      "|  0|Albania|      Maize|1990|      36613|                       1485.0|            121.0|   16.37|\n",
      "|  1|Albania|   Potatoes|1990|      66667|                       1485.0|            121.0|   16.37|\n",
      "|  2|Albania|Rice, paddy|1990|      23333|                       1485.0|            121.0|   16.37|\n",
      "|  3|Albania|    Sorghum|1990|      12500|                       1485.0|            121.0|   16.37|\n",
      "|  4|Albania|   Soybeans|1990|       7000|                       1485.0|            121.0|   16.37|\n",
      "|  5|Albania|      Wheat|1990|      30197|                       1485.0|            121.0|   16.37|\n",
      "|  6|Albania|      Maize|1991|      29068|                       1485.0|            121.0|   15.36|\n",
      "|  7|Albania|   Potatoes|1991|      77818|                       1485.0|            121.0|   15.36|\n",
      "|  8|Albania|Rice, paddy|1991|      28538|                       1485.0|            121.0|   15.36|\n",
      "|  9|Albania|    Sorghum|1991|       6667|                       1485.0|            121.0|   15.36|\n",
      "| 10|Albania|   Soybeans|1991|       6066|                       1485.0|            121.0|   15.36|\n",
      "| 11|Albania|      Wheat|1991|      20698|                       1485.0|            121.0|   15.36|\n",
      "| 12|Albania|      Maize|1992|      24876|                       1485.0|            121.0|   16.06|\n",
      "| 13|Albania|   Potatoes|1992|      82920|                       1485.0|            121.0|   16.06|\n",
      "| 14|Albania|Rice, paddy|1992|      40000|                       1485.0|            121.0|   16.06|\n",
      "| 15|Albania|    Sorghum|1992|       3747|                       1485.0|            121.0|   16.06|\n",
      "| 16|Albania|   Soybeans|1992|       4507|                       1485.0|            121.0|   16.06|\n",
      "| 17|Albania|      Wheat|1992|      24388|                       1485.0|            121.0|   16.06|\n",
      "| 18|Albania|      Maize|1993|      24185|                       1485.0|            121.0|   16.05|\n",
      "| 19|Albania|   Potatoes|1993|      98446|                       1485.0|            121.0|   16.05|\n",
      "+---+-------+-----------+----+-----------+-----------------------------+-----------------+--------+\n",
      "only showing top 20 rows\n",
      "\n"
     ]
    }
   ],
   "source": [
    "df = spark.read.csv('yield_df.csv',header=True, inferSchema=True)\n",
    "df.show()        # displaying top 20 rows"
   ]
  },
  {
   "cell_type": "code",
   "execution_count": 9,
   "id": "72015f09",
   "metadata": {},
   "outputs": [
    {
     "name": "stdout",
     "output_type": "stream",
     "text": [
      "+---+-------+-----------+----+-----------+-----------------------------+-----------------+--------+\n",
      "|_c0|   Area|       Item|Year|hg/ha_yield|average_rain_fall_mm_per_year|pesticides_tonnes|avg_temp|\n",
      "+---+-------+-----------+----+-----------+-----------------------------+-----------------+--------+\n",
      "|  0|Albania|      Maize|1990|      36613|                       1485.0|            121.0|   16.37|\n",
      "|  1|Albania|   Potatoes|1990|      66667|                       1485.0|            121.0|   16.37|\n",
      "|  2|Albania|Rice, paddy|1990|      23333|                       1485.0|            121.0|   16.37|\n",
      "|  3|Albania|    Sorghum|1990|      12500|                       1485.0|            121.0|   16.37|\n",
      "|  4|Albania|   Soybeans|1990|       7000|                       1485.0|            121.0|   16.37|\n",
      "+---+-------+-----------+----+-----------+-----------------------------+-----------------+--------+\n",
      "only showing top 5 rows\n",
      "\n"
     ]
    }
   ],
   "source": [
    "df.show(5)        #displaying top 5 rows"
   ]
  },
  {
   "cell_type": "markdown",
   "id": "928334d0",
   "metadata": {},
   "source": [
    "displaying datatypes"
   ]
  },
  {
   "cell_type": "code",
   "execution_count": 10,
   "id": "44ec0e38",
   "metadata": {},
   "outputs": [
    {
     "data": {
      "text/plain": [
       "[('_c0', 'int'),\n",
       " ('Area', 'string'),\n",
       " ('Item', 'string'),\n",
       " ('Year', 'int'),\n",
       " ('hg/ha_yield', 'int'),\n",
       " ('average_rain_fall_mm_per_year', 'double'),\n",
       " ('pesticides_tonnes', 'double'),\n",
       " ('avg_temp', 'double')]"
      ]
     },
     "execution_count": 10,
     "metadata": {},
     "output_type": "execute_result"
    }
   ],
   "source": [
    "df.dtypes           "
   ]
  },
  {
   "cell_type": "markdown",
   "id": "2f474b5a",
   "metadata": {},
   "source": [
    "Displaying  total count"
   ]
  },
  {
   "cell_type": "code",
   "execution_count": 11,
   "id": "60f37455",
   "metadata": {},
   "outputs": [
    {
     "data": {
      "text/plain": [
       "28242"
      ]
     },
     "execution_count": 11,
     "metadata": {},
     "output_type": "execute_result"
    }
   ],
   "source": [
    "df.count()    "
   ]
  },
  {
   "cell_type": "markdown",
   "id": "a90fda56",
   "metadata": {},
   "source": [
    " We can drop invalid rows while reading the dataset by setting the read mode as “DROPMALFORMED”"
   ]
  },
  {
   "cell_type": "code",
   "execution_count": 12,
   "id": "15a54950",
   "metadata": {},
   "outputs": [],
   "source": [
    "df=spark.read.option('header',True).option('mode','DROPMALFORMED').csv('yield_df.csv')"
   ]
  },
  {
   "cell_type": "markdown",
   "id": "1fd240b4",
   "metadata": {},
   "source": [
    " Filling null values with 0"
   ]
  },
  {
   "cell_type": "code",
   "execution_count": 13,
   "id": "9e8d3431",
   "metadata": {},
   "outputs": [
    {
     "name": "stdout",
     "output_type": "stream",
     "text": [
      "+---+-------+-----------+----+-----------+-----------------------------+-----------------+--------+\n",
      "|_c0|   Area|       Item|Year|hg/ha_yield|average_rain_fall_mm_per_year|pesticides_tonnes|avg_temp|\n",
      "+---+-------+-----------+----+-----------+-----------------------------+-----------------+--------+\n",
      "|  0|Albania|      Maize|1990|      36613|                       1485.0|            121.0|   16.37|\n",
      "|  1|Albania|   Potatoes|1990|      66667|                       1485.0|            121.0|   16.37|\n",
      "|  2|Albania|Rice, paddy|1990|      23333|                       1485.0|            121.0|   16.37|\n",
      "|  3|Albania|    Sorghum|1990|      12500|                       1485.0|            121.0|   16.37|\n",
      "|  4|Albania|   Soybeans|1990|       7000|                       1485.0|            121.0|   16.37|\n",
      "|  5|Albania|      Wheat|1990|      30197|                       1485.0|            121.0|   16.37|\n",
      "|  6|Albania|      Maize|1991|      29068|                       1485.0|            121.0|   15.36|\n",
      "|  7|Albania|   Potatoes|1991|      77818|                       1485.0|            121.0|   15.36|\n",
      "|  8|Albania|Rice, paddy|1991|      28538|                       1485.0|            121.0|   15.36|\n",
      "|  9|Albania|    Sorghum|1991|       6667|                       1485.0|            121.0|   15.36|\n",
      "| 10|Albania|   Soybeans|1991|       6066|                       1485.0|            121.0|   15.36|\n",
      "| 11|Albania|      Wheat|1991|      20698|                       1485.0|            121.0|   15.36|\n",
      "| 12|Albania|      Maize|1992|      24876|                       1485.0|            121.0|   16.06|\n",
      "| 13|Albania|   Potatoes|1992|      82920|                       1485.0|            121.0|   16.06|\n",
      "| 14|Albania|Rice, paddy|1992|      40000|                       1485.0|            121.0|   16.06|\n",
      "| 15|Albania|    Sorghum|1992|       3747|                       1485.0|            121.0|   16.06|\n",
      "| 16|Albania|   Soybeans|1992|       4507|                       1485.0|            121.0|   16.06|\n",
      "| 17|Albania|      Wheat|1992|      24388|                       1485.0|            121.0|   16.06|\n",
      "| 18|Albania|      Maize|1993|      24185|                       1485.0|            121.0|   16.05|\n",
      "| 19|Albania|   Potatoes|1993|      98446|                       1485.0|            121.0|   16.05|\n",
      "+---+-------+-----------+----+-----------+-----------------------------+-----------------+--------+\n",
      "only showing top 20 rows\n",
      "\n"
     ]
    }
   ],
   "source": [
    "df.fillna(value=0).show()      "
   ]
  },
  {
   "cell_type": "markdown",
   "id": "ccc2753e",
   "metadata": {},
   "source": [
    "Checking null values or not\n"
   ]
  },
  {
   "cell_type": "code",
   "execution_count": 14,
   "id": "9a0b43a1",
   "metadata": {},
   "outputs": [
    {
     "name": "stdout",
     "output_type": "stream",
     "text": [
      "+---+----+----+----+-----------+-----------------------------+-----------------+--------+\n",
      "|_c0|Area|Item|Year|hg/ha_yield|average_rain_fall_mm_per_year|pesticides_tonnes|avg_temp|\n",
      "+---+----+----+----+-----------+-----------------------------+-----------------+--------+\n",
      "|  0|   0|   0|   0|          0|                            0|                0|       0|\n",
      "+---+----+----+----+-----------+-----------------------------+-----------------+--------+\n",
      "\n"
     ]
    }
   ],
   "source": [
    "from pyspark.sql.functions import col,isnan, when, count\n",
    "df.select([count(when(isnan(c) | col(c).isNull(), c)).alias(c) for c in df.columns]\n",
    "   ).show()"
   ]
  },
  {
   "cell_type": "markdown",
   "id": "c7f2653c",
   "metadata": {},
   "source": [
    "Find count of null values for selected columns\n"
   ]
  },
  {
   "cell_type": "code",
   "execution_count": 15,
   "id": "9dac33f6",
   "metadata": {},
   "outputs": [
    {
     "name": "stdout",
     "output_type": "stream",
     "text": [
      "+----+----+\n",
      "|Area|Item|\n",
      "+----+----+\n",
      "|   0|   0|\n",
      "+----+----+\n",
      "\n"
     ]
    }
   ],
   "source": [
    "df_Columns=[\"Area\",\"Item\"]\n",
    "df.select([count(when(isnan(c) | col(c).isNull(), c)).alias(c) for c in df_Columns]\n",
    "   ).show()"
   ]
  },
  {
   "cell_type": "markdown",
   "id": "6d683b47",
   "metadata": {},
   "source": [
    "We can select a specific column for analysis purpose, by passing argument count in the show we can select limited record"
   ]
  },
  {
   "cell_type": "code",
   "execution_count": 16,
   "id": "075d9afa",
   "metadata": {},
   "outputs": [
    {
     "name": "stdout",
     "output_type": "stream",
     "text": [
      "+-------+-----------+-----------+\n",
      "|   Area|       Item|hg/ha_yield|\n",
      "+-------+-----------+-----------+\n",
      "|Albania|      Maize|      36613|\n",
      "|Albania|   Potatoes|      66667|\n",
      "|Albania|Rice, paddy|      23333|\n",
      "|Albania|    Sorghum|      12500|\n",
      "|Albania|   Soybeans|       7000|\n",
      "+-------+-----------+-----------+\n",
      "only showing top 5 rows\n",
      "\n"
     ]
    }
   ],
   "source": [
    "df.select('Area','Item','hg/ha_yield').show(5)"
   ]
  },
  {
   "cell_type": "markdown",
   "id": "c0c71a3b",
   "metadata": {},
   "source": [
    "Describing the dataset using toPandas function"
   ]
  },
  {
   "cell_type": "code",
   "execution_count": 17,
   "id": "0a19b57f",
   "metadata": {},
   "outputs": [
    {
     "data": {
      "text/html": [
       "<div>\n",
       "<style scoped>\n",
       "    .dataframe tbody tr th:only-of-type {\n",
       "        vertical-align: middle;\n",
       "    }\n",
       "\n",
       "    .dataframe tbody tr th {\n",
       "        vertical-align: top;\n",
       "    }\n",
       "\n",
       "    .dataframe thead th {\n",
       "        text-align: right;\n",
       "    }\n",
       "</style>\n",
       "<table border=\"1\" class=\"dataframe\">\n",
       "  <thead>\n",
       "    <tr style=\"text-align: right;\">\n",
       "      <th></th>\n",
       "      <th>summary</th>\n",
       "      <th>_c0</th>\n",
       "      <th>Area</th>\n",
       "      <th>Item</th>\n",
       "      <th>Year</th>\n",
       "      <th>hg/ha_yield</th>\n",
       "      <th>average_rain_fall_mm_per_year</th>\n",
       "      <th>pesticides_tonnes</th>\n",
       "      <th>avg_temp</th>\n",
       "    </tr>\n",
       "  </thead>\n",
       "  <tbody>\n",
       "    <tr>\n",
       "      <th>0</th>\n",
       "      <td>count</td>\n",
       "      <td>28242</td>\n",
       "      <td>28242</td>\n",
       "      <td>28242</td>\n",
       "      <td>28242</td>\n",
       "      <td>28242</td>\n",
       "      <td>28242</td>\n",
       "      <td>28242</td>\n",
       "      <td>28242</td>\n",
       "    </tr>\n",
       "    <tr>\n",
       "      <th>1</th>\n",
       "      <td>mean</td>\n",
       "      <td>14120.5</td>\n",
       "      <td>None</td>\n",
       "      <td>None</td>\n",
       "      <td>2001.5442957297641</td>\n",
       "      <td>77053.33209404434</td>\n",
       "      <td>1149.055980454642</td>\n",
       "      <td>37076.909343529136</td>\n",
       "      <td>20.542626584519553</td>\n",
       "    </tr>\n",
       "    <tr>\n",
       "      <th>2</th>\n",
       "      <td>stddev</td>\n",
       "      <td>8152.90748751634</td>\n",
       "      <td>None</td>\n",
       "      <td>None</td>\n",
       "      <td>7.0519052853951205</td>\n",
       "      <td>84956.61289666739</td>\n",
       "      <td>709.8121499492227</td>\n",
       "      <td>59958.78466505776</td>\n",
       "      <td>6.312050836049751</td>\n",
       "    </tr>\n",
       "    <tr>\n",
       "      <th>3</th>\n",
       "      <td>min</td>\n",
       "      <td>0</td>\n",
       "      <td>Albania</td>\n",
       "      <td>Cassava</td>\n",
       "      <td>1990</td>\n",
       "      <td>100</td>\n",
       "      <td>1010.0</td>\n",
       "      <td>0.04</td>\n",
       "      <td>1.3</td>\n",
       "    </tr>\n",
       "    <tr>\n",
       "      <th>4</th>\n",
       "      <td>max</td>\n",
       "      <td>9999</td>\n",
       "      <td>Zimbabwe</td>\n",
       "      <td>Yams</td>\n",
       "      <td>2013</td>\n",
       "      <td>9999</td>\n",
       "      <td>92.0</td>\n",
       "      <td>999.0</td>\n",
       "      <td>9.99</td>\n",
       "    </tr>\n",
       "  </tbody>\n",
       "</table>\n",
       "</div>"
      ],
      "text/plain": [
       "  summary               _c0      Area     Item                Year  \\\n",
       "0   count             28242     28242    28242               28242   \n",
       "1    mean           14120.5      None     None  2001.5442957297641   \n",
       "2  stddev  8152.90748751634      None     None  7.0519052853951205   \n",
       "3     min                 0   Albania  Cassava                1990   \n",
       "4     max              9999  Zimbabwe     Yams                2013   \n",
       "\n",
       "         hg/ha_yield average_rain_fall_mm_per_year   pesticides_tonnes  \\\n",
       "0              28242                         28242               28242   \n",
       "1  77053.33209404434             1149.055980454642  37076.909343529136   \n",
       "2  84956.61289666739             709.8121499492227   59958.78466505776   \n",
       "3                100                        1010.0                0.04   \n",
       "4               9999                          92.0               999.0   \n",
       "\n",
       "             avg_temp  \n",
       "0               28242  \n",
       "1  20.542626584519553  \n",
       "2   6.312050836049751  \n",
       "3                 1.3  \n",
       "4                9.99  "
      ]
     },
     "execution_count": 17,
     "metadata": {},
     "output_type": "execute_result"
    }
   ],
   "source": [
    "df.describe().toPandas()"
   ]
  },
  {
   "cell_type": "markdown",
   "id": "c9e33a33",
   "metadata": {},
   "source": [
    "It is used useful in retrieving all the elements of the row from each partition"
   ]
  },
  {
   "cell_type": "code",
   "execution_count": 18,
   "id": "2fcabbfd",
   "metadata": {},
   "outputs": [
    {
     "name": "stdout",
     "output_type": "stream",
     "text": [
      "+---------+-----+\n",
      "|     Area|count|\n",
      "+---------+-----+\n",
      "|  Senegal|  138|\n",
      "|   Sweden|   46|\n",
      "|   Guyana|  124|\n",
      "|  Eritrea|   80|\n",
      "| Malaysia|   93|\n",
      "|   Turkey|  625|\n",
      "|   Malawi|  171|\n",
      "|     Iraq|  276|\n",
      "|  Germany|  270|\n",
      "|   Rwanda|  207|\n",
      "|    Sudan|   28|\n",
      "|   France|  138|\n",
      "|   Greece|  161|\n",
      "|Sri Lanka|  184|\n",
      "|  Algeria|  114|\n",
      "|Argentina|  368|\n",
      "|   Angola|  164|\n",
      "|  Belgium|   39|\n",
      "|  Ecuador|  621|\n",
      "|    Qatar|   69|\n",
      "+---------+-----+\n",
      "only showing top 20 rows\n",
      "\n"
     ]
    }
   ],
   "source": [
    "df.groupBy('Area').count().show()     "
   ]
  },
  {
   "cell_type": "markdown",
   "id": "ae9b442c",
   "metadata": {},
   "source": [
    "Grouping any two column features "
   ]
  },
  {
   "cell_type": "code",
   "execution_count": 19,
   "id": "1a3d9d9c",
   "metadata": {},
   "outputs": [
    {
     "data": {
      "text/plain": [
       "[Row(Area='Greece', Item='Rice, paddy'),\n",
       " Row(Area='Madagascar', Item='Rice, paddy'),\n",
       " Row(Area='Albania', Item='Sorghum'),\n",
       " Row(Area='Central African Republic', Item='Plantains and others'),\n",
       " Row(Area='Croatia', Item='Maize'),\n",
       " Row(Area='India', Item='Sweet potatoes'),\n",
       " Row(Area='El Salvador', Item='Maize'),\n",
       " Row(Area='Niger', Item='Sweet potatoes'),\n",
       " Row(Area='Spain', Item='Sorghum'),\n",
       " Row(Area='Latvia', Item='Wheat'),\n",
       " Row(Area='El Salvador', Item='Plantains and others'),\n",
       " Row(Area='Angola', Item='Maize'),\n",
       " Row(Area='Jamaica', Item='Plantains and others'),\n",
       " Row(Area='Mozambique', Item='Maize'),\n",
       " Row(Area='Nepal', Item='Soybeans'),\n",
       " Row(Area='Zimbabwe', Item='Maize'),\n",
       " Row(Area='Bangladesh', Item='Sorghum'),\n",
       " Row(Area='Brazil', Item='Wheat'),\n",
       " Row(Area='Saudi Arabia', Item='Potatoes'),\n",
       " Row(Area='Argentina', Item='Cassava'),\n",
       " Row(Area='Iraq', Item='Sorghum'),\n",
       " Row(Area='Japan', Item='Yams'),\n",
       " Row(Area='Namibia', Item='Wheat'),\n",
       " Row(Area='Turkey', Item='Wheat'),\n",
       " Row(Area='Zimbabwe', Item='Wheat'),\n",
       " Row(Area='Mali', Item='Rice, paddy'),\n",
       " Row(Area='Senegal', Item='Cassava'),\n",
       " Row(Area='Thailand', Item='Rice, paddy'),\n",
       " Row(Area='Cameroon', Item='Plantains and others'),\n",
       " Row(Area='India', Item='Soybeans'),\n",
       " Row(Area='Uganda', Item='Plantains and others'),\n",
       " Row(Area='Cameroon', Item='Potatoes'),\n",
       " Row(Area='Cameroon', Item='Sweet potatoes'),\n",
       " Row(Area='Qatar', Item='Potatoes'),\n",
       " Row(Area='Slovenia', Item='Maize'),\n",
       " Row(Area='Albania', Item='Soybeans'),\n",
       " Row(Area='Mozambique', Item='Rice, paddy'),\n",
       " Row(Area='Kenya', Item='Soybeans'),\n",
       " Row(Area='Niger', Item='Wheat'),\n",
       " Row(Area='Zimbabwe', Item='Soybeans'),\n",
       " Row(Area='Brazil', Item='Yams'),\n",
       " Row(Area='India', Item='Wheat'),\n",
       " Row(Area='Mauritius', Item='Sweet potatoes'),\n",
       " Row(Area='Sri Lanka', Item='Potatoes'),\n",
       " Row(Area='Bulgaria', Item='Maize'),\n",
       " Row(Area='Colombia', Item='Rice, paddy'),\n",
       " Row(Area='Madagascar', Item='Sorghum'),\n",
       " Row(Area='Montenegro', Item='Maize'),\n",
       " Row(Area='Tajikistan', Item='Wheat'),\n",
       " Row(Area='Jamaica', Item='Cassava'),\n",
       " Row(Area='Uganda', Item='Rice, paddy'),\n",
       " Row(Area='Argentina', Item='Soybeans'),\n",
       " Row(Area='Guatemala', Item='Soybeans'),\n",
       " Row(Area='Iraq', Item='Rice, paddy'),\n",
       " Row(Area='Malawi', Item='Wheat'),\n",
       " Row(Area='Tajikistan', Item='Sorghum'),\n",
       " Row(Area='Austria', Item='Sorghum'),\n",
       " Row(Area='Lithuania', Item='Maize'),\n",
       " Row(Area='Mali', Item='Yams'),\n",
       " Row(Area='Namibia', Item='Potatoes'),\n",
       " Row(Area='Thailand', Item='Sorghum'),\n",
       " Row(Area='El Salvador', Item='Cassava'),\n",
       " Row(Area='Greece', Item='Sweet potatoes'),\n",
       " Row(Area='Guinea', Item='Sorghum'),\n",
       " Row(Area='Pakistan', Item='Sorghum'),\n",
       " Row(Area='Botswana', Item='Sorghum'),\n",
       " Row(Area='Egypt', Item='Sorghum'),\n",
       " Row(Area='France', Item='Potatoes'),\n",
       " Row(Area='Uruguay', Item='Sorghum'),\n",
       " Row(Area='Uruguay', Item='Soybeans'),\n",
       " Row(Area='Belgium', Item='Maize'),\n",
       " Row(Area='Central African Republic', Item='Yams'),\n",
       " Row(Area='Morocco', Item='Sweet potatoes'),\n",
       " Row(Area='Portugal', Item='Potatoes'),\n",
       " Row(Area='Albania', Item='Rice, paddy'),\n",
       " Row(Area='Guatemala', Item='Sweet potatoes'),\n",
       " Row(Area='Zambia', Item='Sorghum'),\n",
       " Row(Area='Bahamas', Item='Cassava'),\n",
       " Row(Area='Bahamas', Item='Plantains and others'),\n",
       " Row(Area='New Zealand', Item='Sweet potatoes'),\n",
       " Row(Area='Peru', Item='Potatoes'),\n",
       " Row(Area='Bulgaria', Item='Wheat'),\n",
       " Row(Area='Cameroon', Item='Rice, paddy'),\n",
       " Row(Area='Lesotho', Item='Sorghum'),\n",
       " Row(Area='Angola', Item='Potatoes'),\n",
       " Row(Area='Canada', Item='Maize'),\n",
       " Row(Area='Greece', Item='Sorghum'),\n",
       " Row(Area='Libya', Item='Wheat'),\n",
       " Row(Area='Zambia', Item='Wheat'),\n",
       " Row(Area='Libya', Item='Potatoes'),\n",
       " Row(Area='Burundi', Item='Wheat'),\n",
       " Row(Area='Colombia', Item='Wheat'),\n",
       " Row(Area='El Salvador', Item='Potatoes'),\n",
       " Row(Area='Malawi', Item='Sorghum'),\n",
       " Row(Area='Niger', Item='Maize'),\n",
       " Row(Area='Zambia', Item='Cassava'),\n",
       " Row(Area='Guinea', Item='Cassava'),\n",
       " Row(Area='Brazil', Item='Cassava'),\n",
       " Row(Area='Denmark', Item='Wheat'),\n",
       " Row(Area='Kazakhstan', Item='Rice, paddy'),\n",
       " Row(Area='Turkey', Item='Rice, paddy'),\n",
       " Row(Area='Senegal', Item='Sorghum'),\n",
       " Row(Area='Angola', Item='Sweet potatoes'),\n",
       " Row(Area='Lesotho', Item='Wheat'),\n",
       " Row(Area='Nicaragua', Item='Potatoes'),\n",
       " Row(Area='Colombia', Item='Cassava'),\n",
       " Row(Area='Guatemala', Item='Plantains and others'),\n",
       " Row(Area='Guyana', Item='Rice, paddy'),\n",
       " Row(Area='Kazakhstan', Item='Sorghum'),\n",
       " Row(Area='Poland', Item='Soybeans'),\n",
       " Row(Area='Uganda', Item='Maize'),\n",
       " Row(Area='Madagascar', Item='Maize'),\n",
       " Row(Area='Azerbaijan', Item='Potatoes'),\n",
       " Row(Area='Norway', Item='Potatoes'),\n",
       " Row(Area='Peru', Item='Maize'),\n",
       " Row(Area='Mexico', Item='Sweet potatoes'),\n",
       " Row(Area='Burundi', Item='Rice, paddy'),\n",
       " Row(Area='Colombia', Item='Potatoes'),\n",
       " Row(Area='Colombia', Item='Yams'),\n",
       " Row(Area='Mozambique', Item='Potatoes'),\n",
       " Row(Area='Senegal', Item='Sweet potatoes'),\n",
       " Row(Area='Turkey', Item='Soybeans'),\n",
       " Row(Area='Bahamas', Item='Maize'),\n",
       " Row(Area='Japan', Item='Maize'),\n",
       " Row(Area='Burkina Faso', Item='Sorghum'),\n",
       " Row(Area='Hungary', Item='Maize'),\n",
       " Row(Area='Mali', Item='Maize'),\n",
       " Row(Area='Sri Lanka', Item='Sweet potatoes'),\n",
       " Row(Area='Japan', Item='Sweet potatoes'),\n",
       " Row(Area='Armenia', Item='Wheat'),\n",
       " Row(Area='Haiti', Item='Cassava'),\n",
       " Row(Area='Mexico', Item='Wheat'),\n",
       " Row(Area='Argentina', Item='Sorghum'),\n",
       " Row(Area='Eritrea', Item='Wheat'),\n",
       " Row(Area='Malawi', Item='Soybeans'),\n",
       " Row(Area='Greece', Item='Maize'),\n",
       " Row(Area='Mauritius', Item='Potatoes'),\n",
       " Row(Area='Dominican Republic', Item='Potatoes'),\n",
       " Row(Area='Hungary', Item='Soybeans'),\n",
       " Row(Area='Sudan', Item='Maize'),\n",
       " Row(Area='Tajikistan', Item='Rice, paddy'),\n",
       " Row(Area='Albania', Item='Wheat'),\n",
       " Row(Area='Bahrain', Item='Sweet potatoes'),\n",
       " Row(Area='Ecuador', Item='Plantains and others'),\n",
       " Row(Area='Germany', Item='Wheat'),\n",
       " Row(Area='Zimbabwe', Item='Sorghum'),\n",
       " Row(Area='Algeria', Item='Wheat'),\n",
       " Row(Area='Guinea', Item='Rice, paddy'),\n",
       " Row(Area='Guyana', Item='Cassava'),\n",
       " Row(Area='Indonesia', Item='Sweet potatoes'),\n",
       " Row(Area='Australia', Item='Sweet potatoes'),\n",
       " Row(Area='Madagascar', Item='Sweet potatoes'),\n",
       " Row(Area='Mali', Item='Sorghum'),\n",
       " Row(Area='Burundi', Item='Sweet potatoes'),\n",
       " Row(Area='France', Item='Sorghum'),\n",
       " Row(Area='Mali', Item='Sweet potatoes'),\n",
       " Row(Area='Rwanda', Item='Potatoes'),\n",
       " Row(Area='Thailand', Item='Soybeans'),\n",
       " Row(Area='Australia', Item='Sorghum'),\n",
       " Row(Area='Malawi', Item='Plantains and others'),\n",
       " Row(Area='Rwanda', Item='Soybeans'),\n",
       " Row(Area='Mauritius', Item='Maize'),\n",
       " Row(Area='Cameroon', Item='Wheat'),\n",
       " Row(Area='Ecuador', Item='Soybeans'),\n",
       " Row(Area='Angola', Item='Cassava'),\n",
       " Row(Area='Argentina', Item='Rice, paddy'),\n",
       " Row(Area='New Zealand', Item='Wheat'),\n",
       " Row(Area='Burundi', Item='Sorghum'),\n",
       " Row(Area='Hungary', Item='Rice, paddy'),\n",
       " Row(Area='Mauritania', Item='Maize'),\n",
       " Row(Area='Pakistan', Item='Potatoes'),\n",
       " Row(Area='Guinea', Item='Plantains and others'),\n",
       " Row(Area='Namibia', Item='Sorghum'),\n",
       " Row(Area='Qatar', Item='Maize'),\n",
       " Row(Area='Papua New Guinea', Item='Sorghum'),\n",
       " Row(Area='Ghana', Item='Sorghum'),\n",
       " Row(Area='Guinea', Item='Sweet potatoes'),\n",
       " Row(Area='Morocco', Item='Potatoes'),\n",
       " Row(Area='Peru', Item='Soybeans'),\n",
       " Row(Area='Qatar', Item='Wheat'),\n",
       " Row(Area='Austria', Item='Potatoes'),\n",
       " Row(Area='Mexico', Item='Potatoes'),\n",
       " Row(Area='South Africa', Item='Rice, paddy'),\n",
       " Row(Area='Guinea', Item='Potatoes'),\n",
       " Row(Area='Argentina', Item='Maize'),\n",
       " Row(Area='Burundi', Item='Potatoes'),\n",
       " Row(Area='Slovenia', Item='Potatoes'),\n",
       " Row(Area='Uruguay', Item='Rice, paddy'),\n",
       " Row(Area='Burkina Faso', Item='Rice, paddy'),\n",
       " Row(Area='Guyana', Item='Sweet potatoes'),\n",
       " Row(Area='India', Item='Potatoes'),\n",
       " Row(Area='Italy', Item='Sweet potatoes'),\n",
       " Row(Area='Spain', Item='Maize'),\n",
       " Row(Area='Jamaica', Item='Rice, paddy'),\n",
       " Row(Area='Peru', Item='Sweet potatoes'),\n",
       " Row(Area='Australia', Item='Rice, paddy'),\n",
       " Row(Area='Burkina Faso', Item='Potatoes'),\n",
       " Row(Area='Guinea', Item='Maize'),\n",
       " Row(Area='Guyana', Item='Plantains and others'),\n",
       " Row(Area='Italy', Item='Maize'),\n",
       " Row(Area='Zambia', Item='Sweet potatoes'),\n",
       " Row(Area='Peru', Item='Sorghum'),\n",
       " Row(Area='Rwanda', Item='Maize'),\n",
       " Row(Area='Turkey', Item='Maize'),\n",
       " Row(Area='Belarus', Item='Wheat'),\n",
       " Row(Area='El Salvador', Item='Soybeans'),\n",
       " Row(Area='New Zealand', Item='Potatoes'),\n",
       " Row(Area='Papua New Guinea', Item='Potatoes'),\n",
       " Row(Area='Canada', Item='Soybeans'),\n",
       " Row(Area='France', Item='Soybeans'),\n",
       " Row(Area='Kenya', Item='Rice, paddy'),\n",
       " Row(Area='Switzerland', Item='Wheat'),\n",
       " Row(Area='Uruguay', Item='Potatoes'),\n",
       " Row(Area='Belgium', Item='Potatoes'),\n",
       " Row(Area='Sweden', Item='Potatoes'),\n",
       " Row(Area='Albania', Item='Potatoes'),\n",
       " Row(Area='Italy', Item='Rice, paddy'),\n",
       " Row(Area='Netherlands', Item='Maize'),\n",
       " Row(Area='Eritrea', Item='Potatoes'),\n",
       " Row(Area='Honduras', Item='Maize'),\n",
       " Row(Area='Malaysia', Item='Cassava'),\n",
       " Row(Area='Morocco', Item='Wheat'),\n",
       " Row(Area='South Africa', Item='Sorghum'),\n",
       " Row(Area='Canada', Item='Potatoes'),\n",
       " Row(Area='Estonia', Item='Potatoes'),\n",
       " Row(Area='Mali', Item='Soybeans'),\n",
       " Row(Area='Iraq', Item='Potatoes'),\n",
       " Row(Area='Malaysia', Item='Soybeans'),\n",
       " Row(Area='Nicaragua', Item='Cassava'),\n",
       " Row(Area='Hungary', Item='Sorghum'),\n",
       " Row(Area='Tunisia', Item='Potatoes'),\n",
       " Row(Area='Argentina', Item='Potatoes'),\n",
       " Row(Area='Zimbabwe', Item='Cassava'),\n",
       " Row(Area='Nepal', Item='Maize'),\n",
       " Row(Area='Nicaragua', Item='Soybeans'),\n",
       " Row(Area='Chile', Item='Sweet potatoes'),\n",
       " Row(Area='Malawi', Item='Potatoes'),\n",
       " Row(Area='Bahamas', Item='Sweet potatoes'),\n",
       " Row(Area='Croatia', Item='Wheat'),\n",
       " Row(Area='Honduras', Item='Cassava'),\n",
       " Row(Area='Italy', Item='Wheat'),\n",
       " Row(Area='Japan', Item='Potatoes'),\n",
       " Row(Area='Lithuania', Item='Wheat'),\n",
       " Row(Area='Algeria', Item='Maize'),\n",
       " Row(Area='Lebanon', Item='Maize'),\n",
       " Row(Area='Switzerland', Item='Soybeans'),\n",
       " Row(Area='Pakistan', Item='Soybeans'),\n",
       " Row(Area='Romania', Item='Sorghum'),\n",
       " Row(Area='Croatia', Item='Soybeans'),\n",
       " Row(Area='Madagascar', Item='Cassava'),\n",
       " Row(Area='Malaysia', Item='Rice, paddy'),\n",
       " Row(Area='Tunisia', Item='Wheat'),\n",
       " Row(Area='Burundi', Item='Yams'),\n",
       " Row(Area='Malaysia', Item='Sweet potatoes'),\n",
       " Row(Area='Cameroon', Item='Soybeans'),\n",
       " Row(Area='Croatia', Item='Potatoes'),\n",
       " Row(Area='Madagascar', Item='Soybeans'),\n",
       " Row(Area='Rwanda', Item='Wheat'),\n",
       " Row(Area='Belarus', Item='Potatoes'),\n",
       " Row(Area='Dominican Republic', Item='Maize'),\n",
       " Row(Area='France', Item='Maize'),\n",
       " Row(Area='Dominican Republic', Item='Yams'),\n",
       " Row(Area='Haiti', Item='Rice, paddy'),\n",
       " Row(Area='Malawi', Item='Cassava'),\n",
       " Row(Area='Mexico', Item='Rice, paddy'),\n",
       " Row(Area='South Africa', Item='Potatoes'),\n",
       " Row(Area='Tunisia', Item='Sorghum'),\n",
       " Row(Area='Armenia', Item='Maize'),\n",
       " Row(Area='Senegal', Item='Rice, paddy'),\n",
       " Row(Area='Sri Lanka', Item='Maize'),\n",
       " Row(Area='Sri Lanka', Item='Sorghum'),\n",
       " Row(Area='Cameroon', Item='Yams'),\n",
       " Row(Area='Ecuador', Item='Maize'),\n",
       " Row(Area='Mauritania', Item='Yams'),\n",
       " Row(Area='Nicaragua', Item='Rice, paddy'),\n",
       " Row(Area='Honduras', Item='Wheat'),\n",
       " Row(Area='Romania', Item='Soybeans'),\n",
       " Row(Area='Netherlands', Item='Wheat'),\n",
       " Row(Area='Thailand', Item='Wheat'),\n",
       " Row(Area='Belarus', Item='Maize'),\n",
       " Row(Area='Guinea', Item='Yams'),\n",
       " Row(Area='Haiti', Item='Sweet potatoes'),\n",
       " Row(Area='Madagascar', Item='Wheat'),\n",
       " Row(Area='Spain', Item='Sweet potatoes'),\n",
       " Row(Area='Switzerland', Item='Potatoes'),\n",
       " Row(Area='Greece', Item='Wheat'),\n",
       " Row(Area='Senegal', Item='Maize'),\n",
       " Row(Area='Montenegro', Item='Potatoes'),\n",
       " Row(Area='Norway', Item='Wheat'),\n",
       " Row(Area='Uganda', Item='Potatoes'),\n",
       " Row(Area='Lesotho', Item='Potatoes'),\n",
       " Row(Area='Portugal', Item='Maize'),\n",
       " Row(Area='Chile', Item='Potatoes'),\n",
       " Row(Area='Egypt', Item='Soybeans'),\n",
       " Row(Area='Eritrea', Item='Maize'),\n",
       " Row(Area='Libya', Item='Maize'),\n",
       " Row(Area='Ukraine', Item='Maize'),\n",
       " Row(Area='South Africa', Item='Wheat'),\n",
       " Row(Area='Colombia', Item='Soybeans'),\n",
       " Row(Area='Egypt', Item='Wheat'),\n",
       " Row(Area='Papua New Guinea', Item='Rice, paddy'),\n",
       " Row(Area='Portugal', Item='Wheat'),\n",
       " Row(Area='India', Item='Cassava'),\n",
       " Row(Area='Italy', Item='Sorghum'),\n",
       " Row(Area='Nicaragua', Item='Yams'),\n",
       " Row(Area='Rwanda', Item='Sorghum'),\n",
       " Row(Area='Chile', Item='Wheat'),\n",
       " Row(Area='Estonia', Item='Wheat'),\n",
       " Row(Area='Germany', Item='Soybeans'),\n",
       " Row(Area='Ghana', Item='Maize'),\n",
       " Row(Area='India', Item='Sorghum'),\n",
       " Row(Area='Senegal', Item='Potatoes'),\n",
       " Row(Area='Dominican Republic', Item='Rice, paddy'),\n",
       " Row(Area='Mauritius', Item='Cassava'),\n",
       " Row(Area='Slovenia', Item='Wheat'),\n",
       " Row(Area='Zambia', Item='Potatoes'),\n",
       " Row(Area='Dominican Republic', Item='Plantains and others'),\n",
       " Row(Area='Ecuador', Item='Cassava'),\n",
       " Row(Area='Zambia', Item='Rice, paddy'),\n",
       " Row(Area='Angola', Item='Soybeans'),\n",
       " Row(Area='Austria', Item='Wheat'),\n",
       " Row(Area='Botswana', Item='Wheat'),\n",
       " Row(Area='Colombia', Item='Maize'),\n",
       " Row(Area='Dominican Republic', Item='Sorghum'),\n",
       " Row(Area='Japan', Item='Soybeans'),\n",
       " Row(Area='Lithuania', Item='Potatoes'),\n",
       " Row(Area='Haiti', Item='Sorghum'),\n",
       " Row(Area='Nicaragua', Item='Sorghum'),\n",
       " Row(Area='Cameroon', Item='Sorghum'),\n",
       " Row(Area='Iraq', Item='Wheat'),\n",
       " Row(Area='Japan', Item='Wheat'),\n",
       " Row(Area='Mauritania', Item='Potatoes'),\n",
       " Row(Area='Zambia', Item='Soybeans'),\n",
       " Row(Area='Guatemala', Item='Potatoes'),\n",
       " Row(Area='Morocco', Item='Maize'),\n",
       " Row(Area='Sudan', Item='Potatoes'),\n",
       " Row(Area='Brazil', Item='Sorghum'),\n",
       " Row(Area='Kazakhstan', Item='Maize'),\n",
       " Row(Area='Saudi Arabia', Item='Sorghum'),\n",
       " Row(Area='Thailand', Item='Cassava'),\n",
       " Row(Area='Cameroon', Item='Maize'),\n",
       " Row(Area='Canada', Item='Wheat'),\n",
       " Row(Area='Malaysia', Item='Maize'),\n",
       " Row(Area='Mozambique', Item='Sorghum'),\n",
       " Row(Area='Rwanda', Item='Cassava'),\n",
       " Row(Area='Tajikistan', Item='Maize'),\n",
       " Row(Area='Dominican Republic', Item='Sweet potatoes'),\n",
       " Row(Area='Mali', Item='Potatoes'),\n",
       " Row(Area='Uganda', Item='Sorghum'),\n",
       " Row(Area='Denmark', Item='Potatoes'),\n",
       " Row(Area='Germany', Item='Maize'),\n",
       " Row(Area='New Zealand', Item='Maize'),\n",
       " Row(Area='Pakistan', Item='Wheat'),\n",
       " Row(Area='Denmark', Item='Maize'),\n",
       " Row(Area='Mexico', Item='Cassava'),\n",
       " Row(Area='Botswana', Item='Maize'),\n",
       " Row(Area='Guyana', Item='Yams'),\n",
       " Row(Area='Kazakhstan', Item='Wheat'),\n",
       " Row(Area='Burundi', Item='Soybeans'),\n",
       " Row(Area='Egypt', Item='Potatoes'),\n",
       " Row(Area='Guatemala', Item='Maize'),\n",
       " Row(Area='Haiti', Item='Potatoes'),\n",
       " Row(Area='Mauritius', Item='Rice, paddy'),\n",
       " Row(Area='Portugal', Item='Sweet potatoes'),\n",
       " Row(Area='Portugal', Item='Rice, paddy'),\n",
       " Row(Area='Namibia', Item='Maize'),\n",
       " Row(Area='Nepal', Item='Wheat'),\n",
       " Row(Area='Sri Lanka', Item='Cassava'),\n",
       " Row(Area='Spain', Item='Soybeans'),\n",
       " Row(Area='Sudan', Item='Rice, paddy'),\n",
       " Row(Area='Kenya', Item='Potatoes'),\n",
       " Row(Area='Malawi', Item='Rice, paddy'),\n",
       " Row(Area='Pakistan', Item='Sweet potatoes'),\n",
       " Row(Area='Chile', Item='Rice, paddy'),\n",
       " Row(Area='Uruguay', Item='Sweet potatoes'),\n",
       " Row(Area='Central African Republic', Item='Sorghum'),\n",
       " Row(Area='Ecuador', Item='Rice, paddy'),\n",
       " Row(Area='Egypt', Item='Sweet potatoes'),\n",
       " Row(Area='Honduras', Item='Sweet potatoes'),\n",
       " Row(Area='Mauritania', Item='Sweet potatoes'),\n",
       " Row(Area='South Africa', Item='Soybeans'),\n",
       " Row(Area='South Africa', Item='Sweet potatoes'),\n",
       " Row(Area='Bulgaria', Item='Potatoes'),\n",
       " Row(Area='Burkina Faso', Item='Sweet potatoes'),\n",
       " Row(Area='Egypt', Item='Rice, paddy'),\n",
       " Row(Area='Romania', Item='Rice, paddy'),\n",
       " Row(Area='Saudi Arabia', Item='Maize'),\n",
       " Row(Area='Slovenia', Item='Soybeans'),\n",
       " Row(Area='Australia', Item='Wheat'),\n",
       " Row(Area='Belgium', Item='Wheat'),\n",
       " Row(Area='Guatemala', Item='Rice, paddy'),\n",
       " Row(Area='Bangladesh', Item='Soybeans'),\n",
       " Row(Area='Brazil', Item='Maize'),\n",
       " Row(Area='Greece', Item='Soybeans'),\n",
       " Row(Area='Sweden', Item='Wheat'),\n",
       " Row(Area='Brazil', Item='Rice, paddy'),\n",
       " Row(Area='Chile', Item='Maize'),\n",
       " Row(Area='Guatemala', Item='Wheat'),\n",
       " Row(Area='Mauritania', Item='Rice, paddy'),\n",
       " Row(Area='Uruguay', Item='Wheat'),\n",
       " Row(Area='Azerbaijan', Item='Rice, paddy'),\n",
       " Row(Area='Jamaica', Item='Yams'),\n",
       " Row(Area='Mozambique', Item='Sweet potatoes'),\n",
       " Row(Area='Tajikistan', Item='Potatoes'),\n",
       " Row(Area='Uganda', Item='Wheat'),\n",
       " Row(Area='Austria', Item='Soybeans'),\n",
       " Row(Area='Colombia', Item='Plantains and others'),\n",
       " Row(Area='Greece', Item='Potatoes'),\n",
       " Row(Area='Jamaica', Item='Potatoes'),\n",
       " Row(Area='Ukraine', Item='Soybeans'),\n",
       " Row(Area='Brazil', Item='Soybeans'),\n",
       " Row(Area='Egypt', Item='Maize'),\n",
       " Row(Area='El Salvador', Item='Rice, paddy'),\n",
       " Row(Area='Morocco', Item='Sorghum'),\n",
       " Row(Area='Guatemala', Item='Sorghum'),\n",
       " Row(Area='Peru', Item='Rice, paddy'),\n",
       " Row(Area='Peru', Item='Wheat'),\n",
       " Row(Area='United Kingdom', Item='Potatoes'),\n",
       " Row(Area='Honduras', Item='Potatoes'),\n",
       " Row(Area='Hungary', Item='Wheat'),\n",
       " Row(Area='Morocco', Item='Rice, paddy'),\n",
       " Row(Area='Algeria', Item='Sorghum'),\n",
       " Row(Area='Germany', Item='Potatoes'),\n",
       " Row(Area='Algeria', Item='Potatoes'),\n",
       " Row(Area='Angola', Item='Wheat'),\n",
       " Row(Area='Kazakhstan', Item='Soybeans'),\n",
       " Row(Area='Spain', Item='Rice, paddy'),\n",
       " Row(Area='Ecuador', Item='Potatoes'),\n",
       " Row(Area='Honduras', Item='Soybeans'),\n",
       " Row(Area='Mozambique', Item='Cassava'),\n",
       " Row(Area='Peru', Item='Plantains and others'),\n",
       " Row(Area='Finland', Item='Potatoes'),\n",
       " Row(Area='Honduras', Item='Sorghum'),\n",
       " Row(Area='Hungary', Item='Potatoes'),\n",
       " Row(Area='Italy', Item='Potatoes'),\n",
       " Row(Area='Nepal', Item='Potatoes'),\n",
       " Row(Area='Nepal', Item='Rice, paddy'),\n",
       " Row(Area='Niger', Item='Potatoes'),\n",
       " Row(Area='Suriname', Item='Plantains and others'),\n",
       " Row(Area='Indonesia', Item='Potatoes'),\n",
       " Row(Area='Indonesia', Item='Soybeans'),\n",
       " Row(Area='Ireland', Item='Potatoes'),\n",
       " Row(Area='Thailand', Item='Potatoes'),\n",
       " Row(Area='Ecuador', Item='Wheat'),\n",
       " Row(Area='Sudan', Item='Yams'),\n",
       " Row(Area='Bahrain', Item='Potatoes'),\n",
       " Row(Area='Indonesia', Item='Rice, paddy'),\n",
       " Row(Area='Brazil', Item='Potatoes'),\n",
       " Row(Area='Kazakhstan', Item='Potatoes'),\n",
       " Row(Area='Romania', Item='Potatoes'),\n",
       " Row(Area='Azerbaijan', Item='Soybeans'),\n",
       " Row(Area='Ukraine', Item='Sorghum'),\n",
       " Row(Area='Ukraine', Item='Wheat'),\n",
       " Row(Area='Bangladesh', Item='Sweet potatoes'),\n",
       " Row(Area='Montenegro', Item='Wheat'),\n",
       " Row(Area='Pakistan', Item='Rice, paddy'),\n",
       " Row(Area='Poland', Item='Wheat'),\n",
       " Row(Area='Ghana', Item='Plantains and others'),\n",
       " Row(Area='Guatemala', Item='Cassava'),\n",
       " Row(Area='Italy', Item='Soybeans'),\n",
       " Row(Area='Burkina Faso', Item='Soybeans'),\n",
       " Row(Area='Suriname', Item='Soybeans'),\n",
       " Row(Area='Bulgaria', Item='Sorghum'),\n",
       " Row(Area='Central African Republic', Item='Maize'),\n",
       " Row(Area='Switzerland', Item='Maize'),\n",
       " Row(Area='Burundi', Item='Cassava'),\n",
       " Row(Area='Jamaica', Item='Sweet potatoes'),\n",
       " Row(Area='Japan', Item='Rice, paddy'),\n",
       " Row(Area='Sri Lanka', Item='Rice, paddy'),\n",
       " Row(Area='Poland', Item='Maize'),\n",
       " Row(Area='Sudan', Item='Wheat'),\n",
       " Row(Area='Guyana', Item='Maize'),\n",
       " Row(Area='Iraq', Item='Soybeans'),\n",
       " Row(Area='Suriname', Item='Maize'),\n",
       " Row(Area='United Kingdom', Item='Wheat'),\n",
       " Row(Area='Angola', Item='Rice, paddy'),\n",
       " Row(Area='Cameroon', Item='Cassava'),\n",
       " Row(Area='France', Item='Rice, paddy'),\n",
       " Row(Area='India', Item='Maize'),\n",
       " Row(Area='Mauritania', Item='Wheat'),\n",
       " Row(Area='Niger', Item='Sorghum'),\n",
       " Row(Area='Ecuador', Item='Sweet potatoes'),\n",
       " Row(Area='Latvia', Item='Potatoes'),\n",
       " Row(Area='Suriname', Item='Rice, paddy'),\n",
       " Row(Area='Suriname', Item='Sweet potatoes'),\n",
       " Row(Area='Zambia', Item='Maize'),\n",
       " Row(Area='Australia', Item='Maize'),\n",
       " Row(Area='Indonesia', Item='Maize'),\n",
       " Row(Area='Rwanda', Item='Rice, paddy'),\n",
       " Row(Area='Rwanda', Item='Yams'),\n",
       " Row(Area='Uganda', Item='Cassava'),\n",
       " Row(Area='Spain', Item='Potatoes'),\n",
       " Row(Area='Australia', Item='Potatoes'),\n",
       " Row(Area='Kenya', Item='Sweet potatoes'),\n",
       " Row(Area='Zimbabwe', Item='Rice, paddy'),\n",
       " Row(Area='Bulgaria', Item='Soybeans'),\n",
       " Row(Area='Indonesia', Item='Cassava'),\n",
       " Row(Area='Mauritania', Item='Sorghum'),\n",
       " Row(Area='Uganda', Item='Soybeans'),\n",
       " Row(Area='Albania', Item='Maize'),\n",
       " Row(Area='Eritrea', Item='Sorghum'),\n",
       " Row(Area='Portugal', Item='Yams'),\n",
       " Row(Area='Thailand', Item='Maize'),\n",
       " Row(Area='El Salvador', Item='Sweet potatoes'),\n",
       " Row(Area='Haiti', Item='Plantains and others'),\n",
       " Row(Area='Nicaragua', Item='Plantains and others'),\n",
       " Row(Area='Australia', Item='Soybeans'),\n",
       " Row(Area='Brazil', Item='Sweet potatoes'),\n",
       " Row(Area='France', Item='Wheat'),\n",
       " Row(Area='Kenya', Item='Maize'),\n",
       " Row(Area='Mali', Item='Wheat'),\n",
       " Row(Area='Turkey', Item='Potatoes'),\n",
       " Row(Area='Angola', Item='Sorghum'),\n",
       " Row(Area='Burkina Faso', Item='Yams'),\n",
       " Row(Area='Lebanon', Item='Potatoes'),\n",
       " Row(Area='Mexico', Item='Maize'),\n",
       " Row(Area='Argentina', Item='Sweet potatoes'),\n",
       " Row(Area='Bangladesh', Item='Rice, paddy'),\n",
       " Row(Area='Haiti', Item='Yams'),\n",
       " Row(Area='Lesotho', Item='Maize'),\n",
       " Row(Area='Tajikistan', Item='Soybeans'),\n",
       " Row(Area='Bangladesh', Item='Wheat'),\n",
       " Row(Area='Netherlands', Item='Potatoes'),\n",
       " Row(Area='Nicaragua', Item='Maize'),\n",
       " Row(Area='Romania', Item='Wheat'),\n",
       " Row(Area='Bangladesh', Item='Maize'),\n",
       " Row(Area='Kenya', Item='Sorghum'),\n",
       " Row(Area='Lebanon', Item='Sorghum'),\n",
       " Row(Area='Uruguay', Item='Maize'),\n",
       " Row(Area='Azerbaijan', Item='Maize'),\n",
       " Row(Area='Finland', Item='Wheat'),\n",
       " Row(Area='Kenya', Item='Cassava'),\n",
       " Row(Area='Niger', Item='Cassava'),\n",
       " Row(Area='Zimbabwe', Item='Sweet potatoes'),\n",
       " Row(Area='Burkina Faso', Item='Cassava'),\n",
       " Row(Area='Armenia', Item='Potatoes'),\n",
       " Row(Area='Honduras', Item='Rice, paddy'),\n",
       " Row(Area='Kenya', Item='Yams'),\n",
       " Row(Area='Madagascar', Item='Potatoes'),\n",
       " Row(Area='Papua New Guinea', Item='Cassava'),\n",
       " Row(Area='Niger', Item='Rice, paddy'),\n",
       " Row(Area='Papua New Guinea', Item='Maize'),\n",
       " Row(Area='Zimbabwe', Item='Potatoes'),\n",
       " Row(Area='Azerbaijan', Item='Sorghum'),\n",
       " Row(Area='Honduras', Item='Plantains and others'),\n",
       " Row(Area='Lebanon', Item='Wheat'),\n",
       " Row(Area='Pakistan', Item='Maize'),\n",
       " Row(Area='Spain', Item='Wheat'),\n",
       " Row(Area='Sri Lanka', Item='Plantains and others'),\n",
       " Row(Area='Ukraine', Item='Potatoes'),\n",
       " Row(Area='Bulgaria', Item='Rice, paddy'),\n",
       " Row(Area='Peru', Item='Cassava'),\n",
       " Row(Area='Burkina Faso', Item='Maize'),\n",
       " Row(Area='Ecuador', Item='Sorghum'),\n",
       " Row(Area='Ghana', Item='Cassava'),\n",
       " Row(Area='Uganda', Item='Sweet potatoes'),\n",
       " Row(Area='Central African Republic', Item='Potatoes'),\n",
       " Row(Area='India', Item='Rice, paddy'),\n",
       " Row(Area='Ireland', Item='Wheat'),\n",
       " Row(Area='Croatia', Item='Sorghum'),\n",
       " Row(Area='Mexico', Item='Sorghum'),\n",
       " Row(Area='Morocco', Item='Soybeans'),\n",
       " Row(Area='Ghana', Item='Yams'),\n",
       " Row(Area='Papua New Guinea', Item='Sweet potatoes'),\n",
       " Row(Area='Sri Lanka', Item='Soybeans'),\n",
       " Row(Area='Dominican Republic', Item='Cassava'),\n",
       " Row(Area='Poland', Item='Potatoes'),\n",
       " Row(Area='South Africa', Item='Maize'),\n",
       " Row(Area='Bangladesh', Item='Potatoes'),\n",
       " Row(Area='Ghana', Item='Rice, paddy'),\n",
       " Row(Area='Mozambique', Item='Wheat'),\n",
       " Row(Area='Romania', Item='Maize'),\n",
       " Row(Area='Turkey', Item='Sorghum'),\n",
       " Row(Area='Azerbaijan', Item='Wheat'),\n",
       " Row(Area='Central African Republic', Item='Cassava'),\n",
       " Row(Area='Mexico', Item='Soybeans'),\n",
       " Row(Area='Rwanda', Item='Sweet potatoes'),\n",
       " Row(Area='Sudan', Item='Sweet potatoes'),\n",
       " Row(Area='Suriname', Item='Cassava'),\n",
       " Row(Area='Algeria', Item='Rice, paddy'),\n",
       " Row(Area='Haiti', Item='Maize'),\n",
       " Row(Area='Kenya', Item='Plantains and others'),\n",
       " Row(Area='Mali', Item='Cassava'),\n",
       " Row(Area='Sudan', Item='Sorghum'),\n",
       " Row(Area='Burundi', Item='Maize'),\n",
       " Row(Area='El Salvador', Item='Sorghum'),\n",
       " Row(Area='Argentina', Item='Wheat'),\n",
       " Row(Area='Colombia', Item='Sorghum'),\n",
       " Row(Area='Iraq', Item='Maize'),\n",
       " Row(Area='Kenya', Item='Wheat'),\n",
       " Row(Area='Papua New Guinea', Item='Yams'),\n",
       " Row(Area='Ghana', Item='Sweet potatoes'),\n",
       " Row(Area='Central African Republic', Item='Rice, paddy'),\n",
       " Row(Area='Ukraine', Item='Rice, paddy'),\n",
       " Row(Area='Austria', Item='Maize'),\n",
       " Row(Area='Jamaica', Item='Maize'),\n",
       " Row(Area='Malawi', Item='Maize'),\n",
       " Row(Area='Saudi Arabia', Item='Wheat')]"
      ]
     },
     "execution_count": 19,
     "metadata": {},
     "output_type": "execute_result"
    }
   ],
   "source": [
    "df.groupBy(\"Area\",\"Item\").avg().collect()"
   ]
  },
  {
   "cell_type": "markdown",
   "id": "681214e2",
   "metadata": {},
   "source": [
    "importing different types and functions "
   ]
  },
  {
   "cell_type": "code",
   "execution_count": 20,
   "id": "b537104b",
   "metadata": {},
   "outputs": [],
   "source": [
    "from pyspark.sql.types import StructField, StructType, StringType, LongType"
   ]
  },
  {
   "cell_type": "code",
   "execution_count": 21,
   "id": "a10e03d5",
   "metadata": {},
   "outputs": [],
   "source": [
    "import pyspark.sql.functions as F"
   ]
  },
  {
   "cell_type": "code",
   "execution_count": 22,
   "id": "918dc7bf",
   "metadata": {},
   "outputs": [
    {
     "name": "stdout",
     "output_type": "stream",
     "text": [
      "+-------+\n",
      "|   Area|\n",
      "+-------+\n",
      "|Albania|\n",
      "|Albania|\n",
      "|Albania|\n",
      "|Albania|\n",
      "|Albania|\n",
      "+-------+\n",
      "only showing top 5 rows\n",
      "\n"
     ]
    }
   ],
   "source": [
    "df.select('Area').show(5)"
   ]
  },
  {
   "cell_type": "markdown",
   "id": "a0d1501b",
   "metadata": {},
   "source": [
    "filtering"
   ]
  },
  {
   "cell_type": "code",
   "execution_count": 23,
   "id": "ddb9bcd4",
   "metadata": {},
   "outputs": [
    {
     "name": "stdout",
     "output_type": "stream",
     "text": [
      "+---+-------+-----+----+-----------+-----------------------------+-----------------+--------+\n",
      "|_c0|   Area| Item|Year|hg/ha_yield|average_rain_fall_mm_per_year|pesticides_tonnes|avg_temp|\n",
      "+---+-------+-----+----+-----------+-----------------------------+-----------------+--------+\n",
      "|  0|Albania|Maize|1990|      36613|                       1485.0|            121.0|   16.37|\n",
      "|  6|Albania|Maize|1991|      29068|                       1485.0|            121.0|   15.36|\n",
      "| 12|Albania|Maize|1992|      24876|                       1485.0|            121.0|   16.06|\n",
      "| 18|Albania|Maize|1993|      24185|                       1485.0|            121.0|   16.05|\n",
      "| 23|Albania|Maize|1994|      25848|                       1485.0|            201.0|   16.96|\n",
      "+---+-------+-----+----+-----------+-----------------------------+-----------------+--------+\n",
      "only showing top 5 rows\n",
      "\n"
     ]
    }
   ],
   "source": [
    "df.filter(F.col('Item')=='Maize').show(5)     \n"
   ]
  },
  {
   "cell_type": "markdown",
   "id": "10099600",
   "metadata": {},
   "source": [
    "multiple filtering"
   ]
  },
  {
   "cell_type": "code",
   "execution_count": 24,
   "id": "85cd8662",
   "metadata": {},
   "outputs": [
    {
     "name": "stdout",
     "output_type": "stream",
     "text": [
      "+-----+-----+-----+----+-----------+-----------------------------+-----------------+--------+\n",
      "|  _c0| Area| Item|Year|hg/ha_yield|average_rain_fall_mm_per_year|pesticides_tonnes|avg_temp|\n",
      "+-----+-----+-----+----+-----------+-----------------------------+-----------------+--------+\n",
      "|10524|India|Maize|1990|      15178|                       1083.0|          75000.0|   25.58|\n",
      "|10525|India|Maize|1990|      15178|                       1083.0|          75000.0|   26.88|\n",
      "|10526|India|Maize|1990|      15178|                       1083.0|          75000.0|   25.79|\n",
      "|10527|India|Maize|1990|      15178|                       1083.0|          75000.0|    24.1|\n",
      "|10528|India|Maize|1990|      15178|                       1083.0|          75000.0|   25.25|\n",
      "+-----+-----+-----+----+-----------+-----------------------------+-----------------+--------+\n",
      "only showing top 5 rows\n",
      "\n"
     ]
    }
   ],
   "source": [
    "df.where(F.col('Item')=='Maize').where(F.col(\"Area\")==\"India\").show(5)     "
   ]
  },
  {
   "cell_type": "markdown",
   "id": "f5ed2d7d",
   "metadata": {},
   "source": [
    "Renaming some columns "
   ]
  },
  {
   "cell_type": "code",
   "execution_count": 25,
   "id": "6580b872",
   "metadata": {},
   "outputs": [
    {
     "name": "stdout",
     "output_type": "stream",
     "text": [
      "+---+-------+-----------+----+-----+-------+-------+--------+\n",
      "|_c0|   Area|       Item|Year|Value|AvgRain|PTonnes|avg_temp|\n",
      "+---+-------+-----------+----+-----+-------+-------+--------+\n",
      "|  0|Albania|      Maize|1990|36613| 1485.0|  121.0|   16.37|\n",
      "|  1|Albania|   Potatoes|1990|66667| 1485.0|  121.0|   16.37|\n",
      "|  2|Albania|Rice, paddy|1990|23333| 1485.0|  121.0|   16.37|\n",
      "|  3|Albania|    Sorghum|1990|12500| 1485.0|  121.0|   16.37|\n",
      "|  4|Albania|   Soybeans|1990| 7000| 1485.0|  121.0|   16.37|\n",
      "|  5|Albania|      Wheat|1990|30197| 1485.0|  121.0|   16.37|\n",
      "|  6|Albania|      Maize|1991|29068| 1485.0|  121.0|   15.36|\n",
      "|  7|Albania|   Potatoes|1991|77818| 1485.0|  121.0|   15.36|\n",
      "|  8|Albania|Rice, paddy|1991|28538| 1485.0|  121.0|   15.36|\n",
      "|  9|Albania|    Sorghum|1991| 6667| 1485.0|  121.0|   15.36|\n",
      "| 10|Albania|   Soybeans|1991| 6066| 1485.0|  121.0|   15.36|\n",
      "| 11|Albania|      Wheat|1991|20698| 1485.0|  121.0|   15.36|\n",
      "| 12|Albania|      Maize|1992|24876| 1485.0|  121.0|   16.06|\n",
      "| 13|Albania|   Potatoes|1992|82920| 1485.0|  121.0|   16.06|\n",
      "| 14|Albania|Rice, paddy|1992|40000| 1485.0|  121.0|   16.06|\n",
      "| 15|Albania|    Sorghum|1992| 3747| 1485.0|  121.0|   16.06|\n",
      "| 16|Albania|   Soybeans|1992| 4507| 1485.0|  121.0|   16.06|\n",
      "| 17|Albania|      Wheat|1992|24388| 1485.0|  121.0|   16.06|\n",
      "| 18|Albania|      Maize|1993|24185| 1485.0|  121.0|   16.05|\n",
      "| 19|Albania|   Potatoes|1993|98446| 1485.0|  121.0|   16.05|\n",
      "+---+-------+-----------+----+-----+-------+-------+--------+\n",
      "only showing top 20 rows\n",
      "\n"
     ]
    }
   ],
   "source": [
    "df = df.withColumnRenamed(\"hg/ha_yield\",\"Value\") \\\n",
    "    .withColumnRenamed(\"average_rain_fall_mm_per_year\",\"AvgRain\") \\\n",
    "    .withColumnRenamed(\"pesticides_tonnes\",\"PTonnes\")\n",
    "df.show()"
   ]
  },
  {
   "cell_type": "code",
   "execution_count": 26,
   "id": "12782816",
   "metadata": {},
   "outputs": [],
   "source": [
    "from pyspark.sql.functions import col\n",
    "from pyspark.sql.types import StringType,BooleanType,DateType, IntegerType, DoubleType\n"
   ]
  },
  {
   "cell_type": "markdown",
   "id": "403613f5",
   "metadata": {},
   "source": [
    "imported different functions for changing datatypes "
   ]
  },
  {
   "cell_type": "code",
   "execution_count": 27,
   "id": "0fc8d653",
   "metadata": {},
   "outputs": [],
   "source": [
    "df = df.withColumn(\"Value\",col(\"Value\").cast(IntegerType())) \\\n",
    "    .withColumn(\"AvgRain\",col(\"AvgRain\").cast(DoubleType())) \\\n",
    "     .withColumn(\"_c0\",col(\"_c0\").cast(IntegerType())) \\\n",
    "     .withColumn(\"avg_temp\",col(\"avg_temp\").cast(DoubleType())) \\\n",
    "     .withColumn(\"Year\",col(\"Year\").cast(IntegerType())) \\\n",
    "    .withColumn(\"PTonnes\",col(\"PTonnes\").cast(DoubleType()))"
   ]
  },
  {
   "cell_type": "code",
   "execution_count": 28,
   "id": "c39dea1f",
   "metadata": {},
   "outputs": [
    {
     "data": {
      "text/plain": [
       "[('_c0', 'int'),\n",
       " ('Area', 'string'),\n",
       " ('Item', 'string'),\n",
       " ('Year', 'int'),\n",
       " ('Value', 'int'),\n",
       " ('AvgRain', 'double'),\n",
       " ('PTonnes', 'double'),\n",
       " ('avg_temp', 'double')]"
      ]
     },
     "execution_count": 28,
     "metadata": {},
     "output_type": "execute_result"
    }
   ],
   "source": [
    "df.dtypes"
   ]
  },
  {
   "cell_type": "code",
   "execution_count": 29,
   "id": "25b6466d",
   "metadata": {},
   "outputs": [
    {
     "name": "stdout",
     "output_type": "stream",
     "text": [
      "+---+-------+-----------+----+-----+-------+-------+--------+\n",
      "|_c0|   Area|       Item|Year|Value|AvgRain|PTonnes|avg_temp|\n",
      "+---+-------+-----------+----+-----+-------+-------+--------+\n",
      "|  0|Albania|      Maize|1990|36613| 1485.0|  121.0|   16.37|\n",
      "|  1|Albania|   Potatoes|1990|66667| 1485.0|  121.0|   16.37|\n",
      "|  2|Albania|Rice, paddy|1990|23333| 1485.0|  121.0|   16.37|\n",
      "|  3|Albania|    Sorghum|1990|12500| 1485.0|  121.0|   16.37|\n",
      "|  4|Albania|   Soybeans|1990| 7000| 1485.0|  121.0|   16.37|\n",
      "|  5|Albania|      Wheat|1990|30197| 1485.0|  121.0|   16.37|\n",
      "|  6|Albania|      Maize|1991|29068| 1485.0|  121.0|   15.36|\n",
      "|  7|Albania|   Potatoes|1991|77818| 1485.0|  121.0|   15.36|\n",
      "|  8|Albania|Rice, paddy|1991|28538| 1485.0|  121.0|   15.36|\n",
      "|  9|Albania|    Sorghum|1991| 6667| 1485.0|  121.0|   15.36|\n",
      "| 10|Albania|   Soybeans|1991| 6066| 1485.0|  121.0|   15.36|\n",
      "| 11|Albania|      Wheat|1991|20698| 1485.0|  121.0|   15.36|\n",
      "| 12|Albania|      Maize|1992|24876| 1485.0|  121.0|   16.06|\n",
      "| 13|Albania|   Potatoes|1992|82920| 1485.0|  121.0|   16.06|\n",
      "| 14|Albania|Rice, paddy|1992|40000| 1485.0|  121.0|   16.06|\n",
      "| 15|Albania|    Sorghum|1992| 3747| 1485.0|  121.0|   16.06|\n",
      "| 16|Albania|   Soybeans|1992| 4507| 1485.0|  121.0|   16.06|\n",
      "| 17|Albania|      Wheat|1992|24388| 1485.0|  121.0|   16.06|\n",
      "| 18|Albania|      Maize|1993|24185| 1485.0|  121.0|   16.05|\n",
      "| 19|Albania|   Potatoes|1993|98446| 1485.0|  121.0|   16.05|\n",
      "+---+-------+-----------+----+-----+-------+-------+--------+\n",
      "only showing top 20 rows\n",
      "\n"
     ]
    }
   ],
   "source": [
    "df.show()"
   ]
  },
  {
   "cell_type": "markdown",
   "id": "9d48aee2",
   "metadata": {},
   "source": [
    "Grouping different columns with their distinct feature values count "
   ]
  },
  {
   "cell_type": "code",
   "execution_count": 30,
   "id": "7183b656",
   "metadata": {},
   "outputs": [
    {
     "name": "stdout",
     "output_type": "stream",
     "text": [
      "+--------+--------------+\n",
      "|    Area|Distinct_items|\n",
      "+--------+--------------+\n",
      "| Senegal|           138|\n",
      "|  Sweden|            46|\n",
      "|  Guyana|           124|\n",
      "| Eritrea|            80|\n",
      "|Malaysia|            93|\n",
      "|  Turkey|           625|\n",
      "|  Malawi|           171|\n",
      "|    Iraq|           276|\n",
      "| Germany|           270|\n",
      "|  Rwanda|           207|\n",
      "+--------+--------------+\n",
      "only showing top 10 rows\n",
      "\n"
     ]
    }
   ],
   "source": [
    "import pyspark.sql.functions as func \n",
    "df.groupby('Area').agg(func.expr('count(Item)')\\\n",
    "                              .alias('Distinct_items')).show(10)"
   ]
  },
  {
   "cell_type": "markdown",
   "id": "070638c8",
   "metadata": {},
   "source": [
    "using agg function displaying mean value"
   ]
  },
  {
   "cell_type": "code",
   "execution_count": 31,
   "id": "2b4f1cfe",
   "metadata": {},
   "outputs": [
    {
     "data": {
      "text/plain": [
       "[Row(avg(Value)=77053.33209404434)]"
      ]
     },
     "execution_count": 31,
     "metadata": {},
     "output_type": "execute_result"
    }
   ],
   "source": [
    "df.agg({'Value':'mean'}).collect()"
   ]
  },
  {
   "cell_type": "markdown",
   "id": "8bb688e3",
   "metadata": {},
   "source": [
    "\n",
    "converting categorical data into numerical data using stringindexer function"
   ]
  },
  {
   "cell_type": "code",
   "execution_count": 32,
   "id": "d5f21f97",
   "metadata": {},
   "outputs": [],
   "source": [
    "from pyspark.ml.feature import StringIndexer        # indexing according unique values"
   ]
  },
  {
   "cell_type": "code",
   "execution_count": 33,
   "id": "eab3bccf",
   "metadata": {
    "scrolled": true
   },
   "outputs": [
    {
     "name": "stdout",
     "output_type": "stream",
     "text": [
      "+---+-------+-----------+----+-----+-------+-------+--------+---------+\n",
      "|_c0|   Area|       Item|Year|Value|AvgRain|PTonnes|avg_temp|ItemIndex|\n",
      "+---+-------+-----------+----+-----+-------+-------+--------+---------+\n",
      "|  0|Albania|      Maize|1990|36613| 1485.0|  121.0|   16.37|      1.0|\n",
      "|  1|Albania|   Potatoes|1990|66667| 1485.0|  121.0|   16.37|      0.0|\n",
      "|  2|Albania|Rice, paddy|1990|23333| 1485.0|  121.0|   16.37|      3.0|\n",
      "|  3|Albania|    Sorghum|1990|12500| 1485.0|  121.0|   16.37|      5.0|\n",
      "|  4|Albania|   Soybeans|1990| 7000| 1485.0|  121.0|   16.37|      4.0|\n",
      "+---+-------+-----------+----+-----+-------+-------+--------+---------+\n",
      "only showing top 5 rows\n",
      "\n"
     ]
    }
   ],
   "source": [
    "indexer=StringIndexer(inputCol='Item',\n",
    "                      outputCol='ItemIndex')\n",
    "df=indexer.fit(df).transform(df)\n",
    "df.show(5)"
   ]
  },
  {
   "cell_type": "code",
   "execution_count": 34,
   "id": "7402af7e",
   "metadata": {},
   "outputs": [
    {
     "name": "stdout",
     "output_type": "stream",
     "text": [
      "+---+-------+-----------+----+-----+-------+-------+--------+---------+---------+\n",
      "|_c0|   Area|       Item|Year|Value|AvgRain|PTonnes|avg_temp|ItemIndex|AreaIndex|\n",
      "+---+-------+-----------+----+-----+-------+-------+--------+---------+---------+\n",
      "|  0|Albania|      Maize|1990|36613| 1485.0|  121.0|   16.37|      1.0|     71.0|\n",
      "|  1|Albania|   Potatoes|1990|66667| 1485.0|  121.0|   16.37|      0.0|     71.0|\n",
      "|  2|Albania|Rice, paddy|1990|23333| 1485.0|  121.0|   16.37|      3.0|     71.0|\n",
      "|  3|Albania|    Sorghum|1990|12500| 1485.0|  121.0|   16.37|      5.0|     71.0|\n",
      "|  4|Albania|   Soybeans|1990| 7000| 1485.0|  121.0|   16.37|      4.0|     71.0|\n",
      "+---+-------+-----------+----+-----+-------+-------+--------+---------+---------+\n",
      "only showing top 5 rows\n",
      "\n"
     ]
    }
   ],
   "source": [
    "indexer=StringIndexer(inputCol='Area',\n",
    "                      outputCol='AreaIndex')\n",
    "df1=indexer.fit(df).transform(df)\n",
    "df1.show(5)"
   ]
  },
  {
   "cell_type": "markdown",
   "id": "5eb4e55d",
   "metadata": {},
   "source": [
    "displaying columns "
   ]
  },
  {
   "cell_type": "code",
   "execution_count": 35,
   "id": "b1867735",
   "metadata": {},
   "outputs": [
    {
     "data": {
      "text/plain": [
       "['_c0',\n",
       " 'Area',\n",
       " 'Item',\n",
       " 'Year',\n",
       " 'Value',\n",
       " 'AvgRain',\n",
       " 'PTonnes',\n",
       " 'avg_temp',\n",
       " 'ItemIndex']"
      ]
     },
     "execution_count": 35,
     "metadata": {},
     "output_type": "execute_result"
    }
   ],
   "source": [
    "df.columns\n"
   ]
  },
  {
   "cell_type": "code",
   "execution_count": 34,
   "id": "9eb32a7b",
   "metadata": {},
   "outputs": [
    {
     "data": {
      "text/plain": [
       "[('_c0', 'int'),\n",
       " ('Area', 'string'),\n",
       " ('Item', 'string'),\n",
       " ('Year', 'int'),\n",
       " ('Value', 'int'),\n",
       " ('AvgRain', 'double'),\n",
       " ('PTonnes', 'double'),\n",
       " ('avg_temp', 'double'),\n",
       " ('ItemIndex', 'double')]"
      ]
     },
     "execution_count": 34,
     "metadata": {},
     "output_type": "execute_result"
    }
   ],
   "source": [
    "df.dtypes"
   ]
  },
  {
   "cell_type": "markdown",
   "id": "61ac5fc8",
   "metadata": {},
   "source": [
    "\n",
    "\n",
    "\n",
    "feature engineering using vectorassembler "
   ]
  },
  {
   "cell_type": "code",
   "execution_count": 37,
   "id": "46e20cc0",
   "metadata": {},
   "outputs": [],
   "source": [
    "from pyspark.ml.feature import VectorAssembler"
   ]
  },
  {
   "cell_type": "code",
   "execution_count": 38,
   "id": "948aab34",
   "metadata": {},
   "outputs": [],
   "source": [
    "featureassembler=VectorAssembler(inputCols=['ItemIndex','Value'], outputCol='Independent feature')\n"
   ]
  },
  {
   "cell_type": "code",
   "execution_count": 39,
   "id": "ace60715",
   "metadata": {},
   "outputs": [
    {
     "name": "stdout",
     "output_type": "stream",
     "text": [
      "+---+-------+-----------+----+-----+-------+-------+--------+---------+---------+-------------------+\n",
      "|_c0|   Area|       Item|Year|Value|AvgRain|PTonnes|avg_temp|ItemIndex|AreaIndex|Independent feature|\n",
      "+---+-------+-----------+----+-----+-------+-------+--------+---------+---------+-------------------+\n",
      "|  0|Albania|      Maize|1990|36613| 1485.0|  121.0|   16.37|      1.0|     71.0|      [1.0,36613.0]|\n",
      "|  1|Albania|   Potatoes|1990|66667| 1485.0|  121.0|   16.37|      0.0|     71.0|      [0.0,66667.0]|\n",
      "|  2|Albania|Rice, paddy|1990|23333| 1485.0|  121.0|   16.37|      3.0|     71.0|      [3.0,23333.0]|\n",
      "|  3|Albania|    Sorghum|1990|12500| 1485.0|  121.0|   16.37|      5.0|     71.0|      [5.0,12500.0]|\n",
      "|  4|Albania|   Soybeans|1990| 7000| 1485.0|  121.0|   16.37|      4.0|     71.0|       [4.0,7000.0]|\n",
      "|  5|Albania|      Wheat|1990|30197| 1485.0|  121.0|   16.37|      2.0|     71.0|      [2.0,30197.0]|\n",
      "|  6|Albania|      Maize|1991|29068| 1485.0|  121.0|   15.36|      1.0|     71.0|      [1.0,29068.0]|\n",
      "|  7|Albania|   Potatoes|1991|77818| 1485.0|  121.0|   15.36|      0.0|     71.0|      [0.0,77818.0]|\n",
      "|  8|Albania|Rice, paddy|1991|28538| 1485.0|  121.0|   15.36|      3.0|     71.0|      [3.0,28538.0]|\n",
      "|  9|Albania|    Sorghum|1991| 6667| 1485.0|  121.0|   15.36|      5.0|     71.0|       [5.0,6667.0]|\n",
      "| 10|Albania|   Soybeans|1991| 6066| 1485.0|  121.0|   15.36|      4.0|     71.0|       [4.0,6066.0]|\n",
      "| 11|Albania|      Wheat|1991|20698| 1485.0|  121.0|   15.36|      2.0|     71.0|      [2.0,20698.0]|\n",
      "| 12|Albania|      Maize|1992|24876| 1485.0|  121.0|   16.06|      1.0|     71.0|      [1.0,24876.0]|\n",
      "| 13|Albania|   Potatoes|1992|82920| 1485.0|  121.0|   16.06|      0.0|     71.0|      [0.0,82920.0]|\n",
      "| 14|Albania|Rice, paddy|1992|40000| 1485.0|  121.0|   16.06|      3.0|     71.0|      [3.0,40000.0]|\n",
      "| 15|Albania|    Sorghum|1992| 3747| 1485.0|  121.0|   16.06|      5.0|     71.0|       [5.0,3747.0]|\n",
      "| 16|Albania|   Soybeans|1992| 4507| 1485.0|  121.0|   16.06|      4.0|     71.0|       [4.0,4507.0]|\n",
      "| 17|Albania|      Wheat|1992|24388| 1485.0|  121.0|   16.06|      2.0|     71.0|      [2.0,24388.0]|\n",
      "| 18|Albania|      Maize|1993|24185| 1485.0|  121.0|   16.05|      1.0|     71.0|      [1.0,24185.0]|\n",
      "| 19|Albania|   Potatoes|1993|98446| 1485.0|  121.0|   16.05|      0.0|     71.0|      [0.0,98446.0]|\n",
      "+---+-------+-----------+----+-----+-------+-------+--------+---------+---------+-------------------+\n",
      "only showing top 20 rows\n",
      "\n"
     ]
    }
   ],
   "source": [
    "output=featureassembler.transform(df1)\n",
    "output.show()"
   ]
  },
  {
   "cell_type": "code",
   "execution_count": null,
   "id": "581bcb31",
   "metadata": {},
   "outputs": [],
   "source": []
  },
  {
   "cell_type": "code",
   "execution_count": null,
   "id": "a24a4e1d",
   "metadata": {},
   "outputs": [],
   "source": []
  },
  {
   "cell_type": "code",
   "execution_count": null,
   "id": "0081e6bd",
   "metadata": {},
   "outputs": [],
   "source": []
  }
 ],
 "metadata": {
  "kernelspec": {
   "display_name": "Python 3 (ipykernel)",
   "language": "python",
   "name": "python3"
  },
  "language_info": {
   "codemirror_mode": {
    "name": "ipython",
    "version": 3
   },
   "file_extension": ".py",
   "mimetype": "text/x-python",
   "name": "python",
   "nbconvert_exporter": "python",
   "pygments_lexer": "ipython3",
   "version": "3.9.7"
  }
 },
 "nbformat": 4,
 "nbformat_minor": 5
}
